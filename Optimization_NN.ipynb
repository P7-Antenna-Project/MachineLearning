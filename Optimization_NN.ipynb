{
 "cells": [
  {
   "cell_type": "code",
   "execution_count": 1,
   "metadata": {},
   "outputs": [
    {
     "name": "stdout",
     "output_type": "stream",
     "text": [
      "C:/Users/nlyho/OneDrive - Aalborg Universitet/7. semester/Git/MachineLearning\n",
      "C:/Users/nlyho/OneDrive - Aalborg Universitet/7. semester/Git/MachineLearning\n",
      "Dictionary keys: dict_keys(['Parameter combination', 'S1,1', 'Frequency', 'degrees', 'combined gain list', 'Standard deviation Phi', 'efficiency', 'Parametric S1,1'])\n"
     ]
    }
   ],
   "source": [
    "import numpy as np\n",
    "import matplotlib.pyplot as plt\n",
    "import tensorflow as tf\n",
    "from tensorflow import keras\n",
    "from keras import layers\n",
    "import pickle\n",
    "from sklearn.model_selection import train_test_split\n",
    "import os\n",
    "import shutil\n",
    "import random\n",
    "import time\n",
    "from keras.models import load_model\n",
    "from MadsNeural_network_500epoch import normalize_data, load_data\n",
    "\n",
    "\n",
    "VALIDATA_S11_CURVES = False\n",
    "\n",
    "path = \"C:/Users/nlyho/OneDrive - Aalborg Universitet/7. semester/Git/MachineLearning\"\n",
    "par_comb, S11_vals, S11_parameterized, frequency, degrees, combined_gain, std_dev, efficiency = load_data(path+'/data/simple_wire2_final_with_parametric.pkl')\n",
    "\n",
    "\n"
   ]
  },
  {
   "cell_type": "code",
   "execution_count": 2,
   "metadata": {},
   "outputs": [
    {
     "name": "stdout",
     "output_type": "stream",
     "text": [
      "Model: \"sequential\"\n",
      "_________________________________________________________________\n",
      " Layer (type)                Output Shape              Param #   \n",
      "=================================================================\n",
      " dense (Dense)               (None, 256)               1024      \n",
      "                                                                 \n",
      " dense_1 (Dense)             (None, 256)               65792     \n",
      "                                                                 \n",
      " dense_2 (Dense)             (None, 256)               65792     \n",
      "                                                                 \n",
      " dense_3 (Dense)             (None, 256)               65792     \n",
      "                                                                 \n",
      " dense_4 (Dense)             (None, 256)               65792     \n",
      "                                                                 \n",
      " dense_5 (Dense)             (None, 256)               65792     \n",
      "                                                                 \n",
      " dense_6 (Dense)             (None, 256)               65792     \n",
      "                                                                 \n",
      " dense_7 (Dense)             (None, 1003)              257771    \n",
      "                                                                 \n",
      "=================================================================\n",
      "Total params: 653547 (2.49 MB)\n",
      "Trainable params: 653547 (2.49 MB)\n",
      "Non-trainable params: 0 (0.00 Byte)\n",
      "_________________________________________________________________\n"
     ]
    }
   ],
   "source": [
    "# Load forward model\n",
    "forward_model = load_model(path + \"/data/DNN_results/simple_wire_2_forward_final/Test_forward_model1.keras\")\n",
    "forward_model.summary()\n",
    "\n",
    "# Generate random data for wire_length, wire_height and wire_radius within the minimum and maximum values\n",
    "wire_length =[157/10,157]\n",
    "wire_height = [4,15]\n",
    "wire_radius = [0.5,3]\n",
    "\n",
    "# Generate random data for the wire_length, wire_height and wire_width\n",
    "wire_length = np.random.uniform(wire_length[0],wire_length[1],100)\n",
    "wire_height = np.random.uniform(wire_height[0],wire_height[1],50)\n",
    "wire_radius = np.random.uniform(wire_radius[0],wire_radius[1],20)\n",
    "\n",
    "# Combine wire_length, wire_height and wire_width into a list of lists\n",
    "param_combination = [[w_l,w_h,w_r] for w_l in wire_length for w_h in wire_height for w_r in wire_radius]\n",
    "\n",
    "#Shuffle the columns in the list (does not move items between columns)\n",
    "# random.shuffle(param_combination)\n",
    "\n",
    "param_combination_norm = normalize_data(param_combination, np.mean(par_comb),np.std(par_comb),False)\n"
   ]
  },
  {
   "cell_type": "code",
   "execution_count": 3,
   "metadata": {},
   "outputs": [
    {
     "name": "stdout",
     "output_type": "stream",
     "text": [
      "3125/3125 [==============================] - 4s 1ms/step\n",
      "Found 16384 s11 curves that fulfill the criteria\n"
     ]
    }
   ],
   "source": [
    "# Feed the param combinations to the forward model\n",
    "forward_model_predictions_norm = forward_model.predict(param_combination_norm)[:,:1001]\n",
    "\n",
    "forward_model_predictions = normalize_data(forward_model_predictions_norm, np.mean(S11_vals), np.std(S11_vals), True)\n",
    "\n",
    "# Find test curves where the S11 goes below -10 dB and the frequency is below 2 GHz\n",
    "good_indices = []\n",
    "for idx, i in enumerate(forward_model_predictions):\n",
    "    if np.min(i) < -10 and frequency[np.argmin(i)] < 2000:\n",
    "        good_indices.append(idx)\n",
    "print(f\"Found {len(good_indices)} s11 curves that fulfill the criteria\")\n",
    "\n",
    "good_s11_curves = []\n",
    "for i in good_indices:\n",
    "    good_s11_curves.append(list(forward_model_predictions[i]))\n",
    "    \n",
    "good_s11_curves = np.asarray(good_s11_curves)"
   ]
  },
  {
   "cell_type": "code",
   "execution_count": 4,
   "metadata": {},
   "outputs": [],
   "source": [
    "if VALIDATA_S11_CURVES:\n",
    "    # Plot the forward model predictions\n",
    "    random_indices = random.sample(range(0, len(good_indices)), 10)\n",
    "    for i in random_indices:\n",
    "        plt.plot(frequency, forward_model_predictions[i])\n",
    "    plt.show()\n"
   ]
  },
  {
   "cell_type": "code",
   "execution_count": 5,
   "metadata": {},
   "outputs": [
    {
     "name": "stdout",
     "output_type": "stream",
     "text": [
      "Model: \"sequential\"\n",
      "_________________________________________________________________\n",
      " Layer (type)                Output Shape              Param #   \n",
      "=================================================================\n",
      " layer1 (Dense)              (None, 256)               256512    \n",
      "                                                                 \n",
      " layer2 (Dense)              (None, 256)               65792     \n",
      "                                                                 \n",
      " layer3 (Dense)              (None, 256)               65792     \n",
      "                                                                 \n",
      " layer4 (Dense)              (None, 256)               65792     \n",
      "                                                                 \n",
      " layer5 (Dense)              (None, 256)               65792     \n",
      "                                                                 \n",
      " layer6 (Dense)              (None, 256)               65792     \n",
      "                                                                 \n",
      " Output_layer (Dense)        (None, 3)                 771       \n",
      "                                                                 \n",
      "=================================================================\n",
      "Total params: 586243 (2.24 MB)\n",
      "Trainable params: 586243 (2.24 MB)\n",
      "Non-trainable params: 0 (0.00 Byte)\n",
      "_________________________________________________________________\n",
      "512/512 [==============================] - 1s 2ms/step\n",
      "[129.95358    11.0992775   1.643137 ]\n",
      "[22.241722  15.449371   2.5746098]\n",
      "[22.686895 15.582346  2.982151]\n",
      "[144.02432     2.5734177   1.8976269]\n",
      "[131.77582    13.164694    1.2361832]\n",
      "[158.53874     6.3447876  -0.4229622]\n",
      "[122.14337     6.8500805   1.2004566]\n",
      "[20.79652  15.196304  2.341652]\n",
      "[118.18897     6.297476    1.3004436]\n",
      "[26.89696   16.132418   2.7711487]\n"
     ]
    },
    {
     "data": {
      "text/plain": [
       "[None, None, None, None, None, None, None, None, None, None]"
      ]
     },
     "execution_count": 5,
     "metadata": {},
     "output_type": "execute_result"
    }
   ],
   "source": [
    "# Load the inverse model\n",
    "inverse_model = load_model(path + \"/Models/Rev_model_new_1.keras\")\n",
    "inverse_model.summary()\n",
    "\n",
    "# Feed the forward model predictions to the inverse model\n",
    "inverse_model_predictions_norm = inverse_model.predict(good_s11_curves)\n",
    "\n",
    "inverse_model_predictions = normalize_data(inverse_model_predictions_norm, np.mean(par_comb), np.std(par_comb), True)\n",
    "\n",
    "random_par_preds = random.sample(list(inverse_model_predictions), 10)\n",
    "[print(i) for i in random_par_preds]\n"
   ]
  },
  {
   "cell_type": "code",
   "execution_count": 6,
   "metadata": {},
   "outputs": [
    {
     "name": "stdout",
     "output_type": "stream",
     "text": [
      "1/1 [==============================] - 0s 60ms/step\n",
      "Predicted parameters: [120.155914    4.9727936   1.1123486]\n",
      "Real parameters: [102.71579919057365, 14.915649594960781, 1.4885104030256109]\n"
     ]
    },
    {
     "data": {
      "image/png": "[encoded data removed]",
      "text/plain": [
       "<Figure size 640x480 with 1 Axes>"
      ]
     },
     "metadata": {},
     "output_type": "display_data"
    }
   ],
   "source": [
    "test_index = 1\n",
    "\n",
    "# Print the predicted and real parameters for a test curve\n",
    "print(f'Predicted parameters: {normalize_data(inverse_model.predict(np.array([good_s11_curves[test_index]])), np.mean(par_comb), np.std(par_comb), True)[0]}')\n",
    "print(f'Real parameters: {param_combination[good_indices[test_index]]}')\n",
    "\n",
    "# Plot the target s11 curve\n",
    "plt.plot(frequency, good_s11_curves[test_index])\n",
    "plt.show()\n",
    "\n",
    "#[159.49065    11.178757    2.4185696]"
   ]
  }
 ],
 "metadata": {
  "kernelspec": {
   "display_name": "Python 3",
   "language": "python",
   "name": "python3"
  },
  "language_info": {
   "codemirror_mode": {
    "name": "ipython",
    "version": 3
   },
   "file_extension": ".py",
   "mimetype": "text/x-python",
   "name": "python",
   "nbconvert_exporter": "python",
   "pygments_lexer": "ipython3",
   "version": "3.10.11"
  }
 },
 "nbformat": 4,
 "nbformat_minor": 2
}
