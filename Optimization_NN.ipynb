{
 "cells": [
  {
   "cell_type": "code",
   "execution_count": 9,
   "metadata": {},
   "outputs": [
    {
     "name": "stdout",
     "output_type": "stream",
     "text": [
      "Dictionary keys: dict_keys(['Parameter combination', 'S1,1', 'Frequency', 'degrees', 'combined gain list', 'Standard deviation Phi', 'efficiency', 'Parametric S1,1'])\n"
     ]
    }
   ],
   "source": [
    "import numpy as np\n",
    "import matplotlib.pyplot as plt\n",
    "import tensorflow as tf\n",
    "from tensorflow import keras\n",
    "from keras import layers\n",
    "import pickle\n",
    "from sklearn.model_selection import train_test_split\n",
    "import os\n",
    "import shutil\n",
    "import random\n",
    "import time\n",
    "from keras.models import load_model\n",
    "from MadsNeural_network_500epoch import *\n",
    "\n",
    "# Flag\n",
    "WIRE_ANTENNA = True\n",
    "MIFA_ANTENNA = False\n",
    "\n",
    "# @keras.saving.register_keras_serializable()\n",
    "# def weighted_loss(y_true, y_pred):\n",
    "#     e = y_pred - y_true\n",
    "#     # Apply different weights based on the input parameters\n",
    "#     e1 = e[:, :2]*2 # Increase the weight for the first two parameters\n",
    "#     e2 = e[:, 2:]\n",
    "#     return K.mean(K.square(K.concatenate([e1, e2], axis=-1)), axis=-1)\n",
    "\n",
    "@keras.saving.register_keras_serializable()\n",
    "def weighted_mse_forward(y_true, y_pred):\n",
    "    #Pass y_true values through a sigmoid function\n",
    "    weights = 2* K.sigmoid(-y_true)+2\n",
    "\n",
    "    return K.mean(weights * K.square(y_pred - y_true), axis=-1)\n",
    "\n",
    "if WIRE_ANTENNA:\n",
    "    @keras.saving.register_keras_serializable()\n",
    "    def weighted_loss(y_true, y_pred):\n",
    "        e = y_pred - y_true\n",
    "        # Apply different weights based on the input parameters\n",
    "        e1 = e[:, :2]*5 # Increase the weight for the first two parameters\n",
    "        e2 = e[:, 2:]\n",
    "        return K.mean(K.square(K.concatenate([e1, e2], axis=-1)), axis=-1)\n",
    "\n",
    "\n",
    "if MIFA_ANTENNA:\n",
    "    @keras.saving.register_keras_serializable()\n",
    "    def weighted_loss(y_true, y_pred):\n",
    "        e = y_pred - y_true\n",
    "        # Apply different weights based on the input parameters\n",
    "        e1 = e[:, 0]*5\n",
    "        e2 = e[:, 2]*5# Increase the weight for the first two parameters\n",
    "        e3 = e[:, 1]\n",
    "        e4 = e[:, 3]\n",
    "        \n",
    "        return K.mean(K.square(K.concatenate([e1, e2, e3, e4], axis=-1)), axis=-1)\n",
    "\n",
    "\n",
    "VALIDATA_S11_CURVES = False\n",
    "\n",
    "path = \"C:/Users/nlyho/OneDrive - Aalborg Universitet/7. semester/Git/MachineLearning\"\n",
    "if WIRE_ANTENNA:\n",
    "    par_comb, S11_vals, frequency, degrees, combined_gain, std_dev, efficiency = load_data('data/Wire_Results/simple_wire2_final_with_parametric.pkl')\n",
    "elif MIFA_ANTENNA:\n",
    "    par_comb, S11_vals, frequency, degrees, combined_gain, std_dev, efficiency = load_data('data/MIFA_Results/MIFA_results.pkl')\n",
    "\n",
    "\n",
    "input_vector = par_comb\n",
    "\n",
    "output_vector = np.asarray([np.concatenate((S11_vals[i], [std_dev[i]], [efficiency[i]]))for i in range(S11_vals.shape[0])])\n",
    "\n",
    "# Split data into training and testing sets, we need the distribution to normalize like in the forward model\n",
    "x_train, x_test, y_train, y_test = train_test_split(input_vector, output_vector, test_size=0.3, shuffle=True, random_state=42)\n",
    "\n",
    "# x_train_norm = normalize_data(x_train, np.mean(x_train),np.std(x_train), False)\n",
    "# x_test_norm = normalize_data(x_test, np.mean(x_test),np.std(x_test), False)\n",
    "# y_train_norm = normalize_data(y_train, np.mean(y_train),np.std(y_train), False)\n",
    "# y_test_norm = normalize_data(y_test, np.mean(y_test),np.std(y_test), False)\n",
    "\n"
   ]
  },
  {
   "cell_type": "code",
   "execution_count": 10,
   "metadata": {},
   "outputs": [
    {
     "name": "stdout",
     "output_type": "stream",
     "text": [
      "Model: \"sequential\"\n",
      "_________________________________________________________________\n",
      " Layer (type)                Output Shape              Param #   \n",
      "=================================================================\n",
      " dense (Dense)               (None, 256)               1024      \n",
      "                                                                 \n",
      " dense_1 (Dense)             (None, 256)               65792     \n",
      "                                                                 \n",
      " dense_2 (Dense)             (None, 256)               65792     \n",
      "                                                                 \n",
      " dense_3 (Dense)             (None, 256)               65792     \n",
      "                                                                 \n",
      " dense_4 (Dense)             (None, 256)               65792     \n",
      "                                                                 \n",
      " dense_5 (Dense)             (None, 256)               65792     \n",
      "                                                                 \n",
      " dense_6 (Dense)             (None, 256)               65792     \n",
      "                                                                 \n",
      " dense_7 (Dense)             (None, 1003)              257771    \n",
      "                                                                 \n",
      "=================================================================\n",
      "Total params: 653547 (2.49 MB)\n",
      "Trainable params: 653547 (2.49 MB)\n",
      "Non-trainable params: 0 (0.00 Byte)\n",
      "_________________________________________________________________\n"
     ]
    }
   ],
   "source": [
    "# Load forward model\n",
    "if WIRE_ANTENNA:\n",
    "    forward_model = load_model(path + \"/data/Wire_Results/Forward_model_wire.keras\", custom_objects={'weighted_mse': weighted_mse_forward})\n",
    "elif MIFA_ANTENNA:\n",
    "    forward_model = load_model(path + \"/data/MIFA_Results/Forward_model_MIFA.keras\", custom_objects={'weighted_mse': weighted_mse_forward})\n",
    "forward_model.summary()\n",
    "\n",
    "if WIRE_ANTENNA:\n",
    "    # Generate random data for wire_length, wire_height and wire_radius within the minimum and maximum values\n",
    "    wire_length =[157/10,157]\n",
    "    wire_height = [4,15]\n",
    "    wire_radius = [0.5,3]\n",
    "\n",
    "    # Generate random data for the wire_length, wire_height and wire_width\n",
    "    wire_length = np.random.uniform(wire_length[0],wire_length[1],100)\n",
    "    wire_height = np.random.uniform(wire_height[0],wire_height[1],50)\n",
    "    wire_radius = np.random.uniform(wire_radius[0],wire_radius[1],20)\n",
    "\n",
    "    # Combine wire_length, wire_height and wire_width into a list of lists\n",
    "    param_combination = [[w_l,w_h,w_r] for w_l in wire_length\n",
    "                         for w_h in wire_height\n",
    "                         for w_r in wire_radius]\n",
    "\n",
    "    #Shuffle the columns in the list (does not move items between columns)\n",
    "    random.seed(42)\n",
    "    random.shuffle(param_combination)\n",
    "    \n",
    "    # Normalize the data, with the same normalization used in the training of the forward model\n",
    "\n",
    "    param_combination_norm = normalize_data(param_combination, np.mean(x_train),np.std(x_train),False)\n",
    "\n",
    "if MIFA_ANTENNA:\n",
    "    Tw1 = [2,8]\n",
    "    groundingPinTopLength = [3,7]\n",
    "    Line1_height = [8,16]\n",
    "    substrateH = [0.7,0.9]\n",
    "    \n",
    "    Tw1 = np.random.uniform(Tw1[0],Tw1[1],30)\n",
    "    groundingPinTopLength = np.random.uniform(groundingPinTopLength[0],groundingPinTopLength[1],30)\n",
    "    Line1_height = np.random.uniform(Line1_height[0],Line1_height[1],20)\n",
    "    substrateH = np.random.uniform(substrateH[0],substrateH[1],10)\n",
    "    \n",
    "    param_combination = [[Tw1_val,groundingPinTopLength_val,Line1_height_val,substrateH_val] for Tw1_val in Tw1 \n",
    "                         for groundingPinTopLength_val in groundingPinTopLength \n",
    "                         for Line1_height_val in Line1_height \n",
    "                         for substrateH_val in substrateH]\n",
    "    random.seed(42)\n",
    "    random.shuffle(param_combination)\n",
    "    # Normalize the data, with the same normalization used in the training of the forward model\n",
    "    param_combination_norm = normalize_data(param_combination, np.mean(x_train),np.std(x_train),False)\n",
    "\n"
   ]
  },
  {
   "cell_type": "code",
   "execution_count": 11,
   "metadata": {},
   "outputs": [
    {
     "name": "stdout",
     "output_type": "stream",
     "text": [
      "3125/3125 [==============================] - 5s 2ms/step\n",
      "Found 2758 s11 curves that fulfill the criteria\n"
     ]
    }
   ],
   "source": [
    "\n",
    "# Feed the param combinations to the forward model\n",
    "forward_model_predictions_norm = forward_model.predict(param_combination_norm)\n",
    "\n",
    "#Reverse the normalization\n",
    "forward_model_predictions = normalize_data(forward_model_predictions_norm, np.mean(y_train), np.std(y_train), True)\n",
    "\n",
    "#Keep only the S11 values\n",
    "forward_model_predictions = forward_model_predictions[:,:1001]\n",
    "\n",
    "data_dictionary = {'Parameter combination': param_combination, 'S1,1': forward_model_predictions, 'Frequency': frequency}\n",
    "\n",
    "if WIRE_ANTENNA:\n",
    "    with open('data/Wire_Results/Wire_interpolated_data.pkl', 'wb') as f:\n",
    "        pickle.dump(data_dictionary, f)\n",
    "elif MIFA_ANTENNA:\n",
    "    with open('data/MIFA_Results/MIFA_interpolated_data.pkl', 'wb') as f:\n",
    "        pickle.dump(data_dictionary, f)\n",
    "\n",
    "# Find test curves where the S11 goes below -10 dB and the frequency is below 2 GHz\n",
    "good_indices = []\n",
    "for idx, i in enumerate(forward_model_predictions):\n",
    "    if np.min(i) < -10 and frequency[np.argmin(i)] in range(1800,2000):\n",
    "        good_indices.append(idx)\n",
    "print(f\"Found {len(good_indices)} s11 curves that fulfill the criteria\")\n",
    "\n",
    "good_s11_curves = []\n",
    "for i in good_indices:\n",
    "    good_s11_curves.append(list(forward_model_predictions[i]))\n",
    "    \n",
    "good_s11_curves = np.asarray(good_s11_curves)"
   ]
  },
  {
   "cell_type": "code",
   "execution_count": 12,
   "metadata": {},
   "outputs": [],
   "source": [
    "if VALIDATA_S11_CURVES:\n",
    "    # Plot the forward model predictions\n",
    "    random_indices = random.sample(range(0, len(good_indices)), 10)\n",
    "    for i in random_indices:\n",
    "        plt.plot(frequency, forward_model_predictions[i])\n",
    "    plt.show()\n"
   ]
  },
  {
   "cell_type": "code",
   "execution_count": 13,
   "metadata": {},
   "outputs": [
    {
     "name": "stdout",
     "output_type": "stream",
     "text": [
      "Model: \"sequential\"\n",
      "_________________________________________________________________\n",
      " Layer (type)                Output Shape              Param #   \n",
      "=================================================================\n",
      " layer1 (Dense)              (None, 256)               256512    \n",
      "                                                                 \n",
      " layer2 (Dense)              (None, 256)               65792     \n",
      "                                                                 \n",
      " layer3 (Dense)              (None, 256)               65792     \n",
      "                                                                 \n",
      " layer4 (Dense)              (None, 256)               65792     \n",
      "                                                                 \n",
      " layer5 (Dense)              (None, 256)               65792     \n",
      "                                                                 \n",
      " layer6 (Dense)              (None, 256)               65792     \n",
      "                                                                 \n",
      " Output_layer (Dense)        (None, 3)                 771       \n",
      "                                                                 \n",
      "=================================================================\n",
      "Total params: 586243 (2.24 MB)\n",
      "Trainable params: 586243 (2.24 MB)\n",
      "Non-trainable params: 0 (0.00 Byte)\n",
      "_________________________________________________________________\n",
      "87/87 [==============================] - 0s 2ms/step\n",
      "[138.17737     7.3498554   2.927414 ]\n",
      "[129.82251    10.677191    2.9130383]\n",
      "[130.84688    10.477076    3.0265865]\n",
      "[133.36876     9.376158    2.9604683]\n",
      "[131.60239    10.577354    3.0062847]\n",
      "[125.55966   11.717522   2.651966]\n",
      "[129.25464    10.752424    2.8234177]\n",
      "[137.32602    7.719324   2.924862]\n",
      "[130.35954    10.607704    3.0192013]\n",
      "[131.45374     9.113596    2.5760803]\n"
     ]
    },
    {
     "data": {
      "text/plain": [
       "[None, None, None, None, None, None, None, None, None, None]"
      ]
     },
     "execution_count": 13,
     "metadata": {},
     "output_type": "execute_result"
    }
   ],
   "source": [
    "\n",
    "# Load the inverse model\n",
    "if WIRE_ANTENNA:\n",
    "    inverse_model = load_model(\"data/Wire_Results/wire_inverse_model_1.keras\", custom_objects={'weighted_mse': weighted_loss})\n",
    "if MIFA_ANTENNA:\n",
    "    inverse_model = load_model(\"data/MIFA_Results/MIFA_inverse_model_1.keras\", custom_objects={'weighted_mse': weighted_loss})\n",
    "inverse_model.summary()\n",
    "\n",
    "# Feed the forward model predictions to the inverse model\n",
    "inverse_model_predictions_norm = inverse_model.predict(good_s11_curves)\n",
    "\n",
    "inverse_model_predictions = normalize_data(inverse_model_predictions_norm, np.mean(par_comb), np.std(par_comb), True)\n",
    "\n",
    "random_par_preds = random.sample(list(inverse_model_predictions), 10)\n",
    "[print(i) for i in random_par_preds]\n"
   ]
  },
  {
   "cell_type": "code",
   "execution_count": 14,
   "metadata": {},
   "outputs": [
    {
     "name": "stdout",
     "output_type": "stream",
     "text": [
      "1/1 [==============================] - 0s 18ms/step\n",
      "Predicted parameters: [129.21861    10.934671    2.9163532]\n",
      "Real parameters: [113.74538059609509, 13.094076184411714, 1.580139317922143]\n"
     ]
    },
    {
     "data": {
      "image/png": "[encoded data removed]",
      "text/plain": [
       "<Figure size 640x480 with 1 Axes>"
      ]
     },
     "metadata": {},
     "output_type": "display_data"
    }
   ],
   "source": [
    "test_index = np.random.randint(0, len(good_indices))\n",
    "\n",
    "# Print the predicted and real parameters for a test curve\n",
    "print(f'Predicted parameters: {normalize_data(inverse_model.predict(np.array([good_s11_curves[test_index]])), np.mean(par_comb), np.std(par_comb), True)[0]}')\n",
    "print(f'Real parameters: {param_combination[good_indices[test_index]]}')\n",
    "\n",
    "# Plot the target s11 curve\n",
    "plt.plot(frequency, good_s11_curves[test_index])\n",
    "plt.show()\n",
    "\n",
    "#[159.49065    11.178757    2.4185696]"
   ]
  },
  {
   "cell_type": "code",
   "execution_count": 15,
   "metadata": {},
   "outputs": [],
   "source": [
    "# with open('data\\MIFA_results\\MIFA_real_cst_BW_center.pkl', 'rb') as f:\n",
    "#     MIFA_real = pickle.load(f)\n",
    "# with open('data\\MIFA_results\\MIFA_results_with_band_centre', 'rb') as f:\n",
    "#     MIFA_extrapolated = pickle.load(f)\n",
    "\n",
    "# good_real = []\n",
    "# [good_real.append([MIFA_real['bandwidth'][idx], MIFA_real['centre_frequency'][idx]]) for idx, i in enumerate(MIFA_real['bandwidth']) if i > 10 and MIFA_real['centre_frequency'][idx] < 2000]\n",
    "\n",
    "# good_extrapolate = []\n",
    "# [good_extrapolate.append([MIFA_extrapolated['bandwidth'][idx],MIFA_extrapolated['centre_frequency'][idx]]) for idx, i in enumerate(MIFA_extrapolated['bandwidth']) if i > 10 and MIFA_extrapolated['centre_frequency'][idx] < 2000]\n",
    "\n",
    "# print(good_real)\n",
    "# print(good_extrapolate)"
   ]
  }
 ],
 "metadata": {
  "kernelspec": {
   "display_name": "Python 3",
   "language": "python",
   "name": "python3"
  },
  "language_info": {
   "codemirror_mode": {
    "name": "ipython",
    "version": 3
   },
   "file_extension": ".py",
   "mimetype": "text/x-python",
   "name": "python",
   "nbconvert_exporter": "python",
   "pygments_lexer": "ipython3",
   "version": "3.10.11"
  }
 },
 "nbformat": 4,
 "nbformat_minor": 2
}
