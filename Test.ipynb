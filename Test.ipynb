{
 "cells": [
  {
   "cell_type": "code",
   "execution_count": 48,
   "metadata": {},
   "outputs": [],
   "source": [
    "import numpy as np\n",
    "import matplotlib.pyplot as plt\n",
    "import tensorflow as tf\n",
    "from tensorflow import keras\n",
    "from keras import layers\n",
    "import pickle\n",
    "from sklearn.model_selection import train_test_split\n",
    "import os\n",
    "import shutil\n",
    "import random\n",
    "import time"
   ]
  },
  {
   "cell_type": "code",
   "execution_count": 49,
   "metadata": {},
   "outputs": [],
   "source": [
    "def load_data(path: str):\n",
    "    \"\"\"\n",
    "    This function loads data from a pickle file located at the provided path.\n",
    "\n",
    "    Parameters:\n",
    "        path (str): The path to the pickle file.\n",
    "\n",
    "    Returns:\n",
    "        par_comb (np.ndarray): The parameter combinations.\n",
    "        S11_par (np.ndarray): The best parametric data.\n",
    "        frequency (np.ndarray): The frequency data.\n",
    "        degrees (np.ndarray): The degrees data.\n",
    "        combined_gain (np.ndarray): The combined gain list.\n",
    "        std_dev (np.ndarray): The standard deviation of Phi.\n",
    "        efficiency (np.ndarray): The efficiency data.\n",
    "    \"\"\"\n",
    "\n",
    "    with open(path,'rb') as file:\n",
    "        data_dict = pickle.load(file)\n",
    "    print(f\"Dictionary keys: {data_dict.keys()}\")\n",
    "\n",
    "    par_comb = np.asarray(data_dict['Parameter combination'])\n",
    "    # S11_vals = np.asarray(data_dict['S1,1'])\n",
    "    frequency = np.asarray(data_dict['Frequency'])\n",
    "    S11_par = np.asarray(data_dict['S1,1'])\n",
    "    degrees = np.asarray(data_dict['degrees'])\n",
    "    combined_gain = np.asarray(data_dict['combined gain list'])\n",
    "    std_dev = np.asarray(data_dict['Standard deviation Phi'])\n",
    "    efficiency = np.asarray(list(data_dict['efficiency'].values()))\n",
    "    return par_comb, S11_par, frequency, degrees, combined_gain, std_dev, efficiency\n",
    "\n",
    "def normalize_data(data, inverse: bool):\n",
    "    if inverse:\n",
    "        data_norm = data*np.std(data) + np.mean(data)\n",
    "    else:   \n",
    "        mean = np.mean(data)\n",
    "        std = np.std(data)\n",
    "        data_norm = (data-mean)/std\n",
    "    return data_norm\n"
   ]
  },
  {
   "cell_type": "code",
   "execution_count": 51,
   "metadata": {},
   "outputs": [
    {
     "name": "stdout",
     "output_type": "stream",
     "text": [
      "Dictionary keys: dict_keys(['Parameter combination', 'S1,1', 'Frequency', 'degrees', 'combined gain list', 'Standard deviation Phi', 'efficiency'])\n"
     ]
    },
    {
     "ename": "ValueError",
     "evalue": "all the input arrays must have same number of dimensions, but the array at index 0 has 2 dimension(s) and the array at index 1 has 4 dimension(s)",
     "output_type": "error",
     "traceback": [
      "\u001b[1;31m---------------------------------------------------------------------------\u001b[0m",
      "\u001b[1;31mValueError\u001b[0m                                Traceback (most recent call last)",
      "\u001b[1;32mc:\\Users\\nlyho\\Desktop\\MachineLearning\\Test.ipynb Cell 3\u001b[0m line \u001b[0;36m8\n\u001b[0;32m      <a href='vscode-notebook-cell:/c%3A/Users/nlyho/Desktop/MachineLearning/Test.ipynb#W2sZmlsZQ%3D%3D?line=4'>5</a>\u001b[0m std_dev_norm \u001b[39m=\u001b[39m normalize_data(std_dev, inverse\u001b[39m=\u001b[39m\u001b[39mFalse\u001b[39;00m)\n\u001b[0;32m      <a href='vscode-notebook-cell:/c%3A/Users/nlyho/Desktop/MachineLearning/Test.ipynb#W2sZmlsZQ%3D%3D?line=5'>6</a>\u001b[0m efficiency_norm \u001b[39m=\u001b[39m normalize_data(efficiency, inverse\u001b[39m=\u001b[39m\u001b[39mFalse\u001b[39;00m)\n\u001b[1;32m----> <a href='vscode-notebook-cell:/c%3A/Users/nlyho/Desktop/MachineLearning/Test.ipynb#W2sZmlsZQ%3D%3D?line=7'>8</a>\u001b[0m input_vector \u001b[39m=\u001b[39m np\u001b[39m.\u001b[39;49mhstack((par_comb_norm, combined_gain_norm, std_dev_norm))\n\u001b[0;32m      <a href='vscode-notebook-cell:/c%3A/Users/nlyho/Desktop/MachineLearning/Test.ipynb#W2sZmlsZQ%3D%3D?line=8'>9</a>\u001b[0m \u001b[39mprint\u001b[39m(\u001b[39mf\u001b[39m\u001b[39m\"\u001b[39m\u001b[39minput shape: \u001b[39m\u001b[39m{\u001b[39;00minput_vector\u001b[39m.\u001b[39mshape\u001b[39m}\u001b[39;00m\u001b[39m\"\u001b[39m)\n",
      "File \u001b[1;32m<__array_function__ internals>:200\u001b[0m, in \u001b[0;36mhstack\u001b[1;34m(*args, **kwargs)\u001b[0m\n",
      "File \u001b[1;32mc:\\Users\\nlyho\\AppData\\Local\\Programs\\Python\\Python311\\Lib\\site-packages\\numpy\\core\\shape_base.py:370\u001b[0m, in \u001b[0;36mhstack\u001b[1;34m(tup, dtype, casting)\u001b[0m\n\u001b[0;32m    368\u001b[0m     \u001b[39mreturn\u001b[39;00m _nx\u001b[39m.\u001b[39mconcatenate(arrs, \u001b[39m0\u001b[39m, dtype\u001b[39m=\u001b[39mdtype, casting\u001b[39m=\u001b[39mcasting)\n\u001b[0;32m    369\u001b[0m \u001b[39melse\u001b[39;00m:\n\u001b[1;32m--> 370\u001b[0m     \u001b[39mreturn\u001b[39;00m _nx\u001b[39m.\u001b[39;49mconcatenate(arrs, \u001b[39m1\u001b[39;49m, dtype\u001b[39m=\u001b[39;49mdtype, casting\u001b[39m=\u001b[39;49mcasting)\n",
      "File \u001b[1;32m<__array_function__ internals>:200\u001b[0m, in \u001b[0;36mconcatenate\u001b[1;34m(*args, **kwargs)\u001b[0m\n",
      "\u001b[1;31mValueError\u001b[0m: all the input arrays must have same number of dimensions, but the array at index 0 has 2 dimension(s) and the array at index 1 has 4 dimension(s)"
     ]
    }
   ],
   "source": [
    "par_comb, S11_par, frequency, degrees, combined_gain, std_dev, efficiency = load_data(\"data\\Simple_wire_2_newdata_inc_eff.pkl\")\n",
    "\n",
    "par_comb_norm = normalize_data(par_comb, inverse=False)\n",
    "combined_gain_norm = normalize_data(combined_gain, inverse=False)\n",
    "std_dev_norm = normalize_data(std_dev, inverse=False)\n",
    "efficiency_norm = normalize_data(efficiency, inverse=False)\n",
    "\n",
    "input_vector = np.hstack((par_comb_norm, combined_gain_norm, std_dev_norm))\n",
    "print(f\"input shape: {input_vector.shape}\")"
   ]
  },
  {
   "cell_type": "code",
   "execution_count": null,
   "metadata": {},
   "outputs": [],
   "source": []
  }
 ],
 "metadata": {
  "kernelspec": {
   "display_name": "Python 3",
   "language": "python",
   "name": "python3"
  },
  "language_info": {
   "codemirror_mode": {
    "name": "ipython",
    "version": 3
   },
   "file_extension": ".py",
   "mimetype": "text/x-python",
   "name": "python",
   "nbconvert_exporter": "python",
   "pygments_lexer": "ipython3",
   "version": "3.11.2"
  }
 },
 "nbformat": 4,
 "nbformat_minor": 2
}
